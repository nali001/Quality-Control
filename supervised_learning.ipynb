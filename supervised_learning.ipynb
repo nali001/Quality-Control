{
 "cells": [
  {
   "cell_type": "markdown",
   "id": "6228a8a8-d1db-4db5-8097-cfedbe148b63",
   "metadata": {},
   "source": [
    "# Supervised learning methods for classification"
   ]
  },
  {
   "cell_type": "code",
   "execution_count": null,
   "id": "b44f637b-1430-48d3-bddb-55d0a739d90d",
   "metadata": {},
   "outputs": [],
   "source": []
  }
 ],
 "metadata": {
  "kernelspec": {
   "display_name": "Python 3 (ipykernel)",
   "language": "python",
   "name": "python3"
  },
  "language_info": {
   "codemirror_mode": {
    "name": "ipython",
    "version": 3
   },
   "file_extension": ".py",
   "mimetype": "text/x-python",
   "name": "python",
   "nbconvert_exporter": "python",
   "pygments_lexer": "ipython3",
   "version": "3.8.13"
  }
 },
 "nbformat": 4,
 "nbformat_minor": 5
}

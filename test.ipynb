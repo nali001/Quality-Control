{
 "cells": [
  {
   "cell_type": "code",
   "execution_count": 3,
   "id": "fe75d5a9-d57f-4d52-80b3-e80af8cab5cb",
   "metadata": {},
   "outputs": [
    {
     "name": "stdout",
     "output_type": "stream",
     "text": [
      "this is A\n",
      "hello this is hh\n"
     ]
    }
   ],
   "source": [
    "class A: \n",
    "    def __init__(self):\n",
    "        print('this is A')\n",
    "        \n",
    "def hh():\n",
    "    print('hello this is hh')\n",
    "class B: \n",
    "    def __init__(self, class_name, func_name): \n",
    "        class_name()\n",
    "        func_name()\n",
    "        \n",
    "b = B(A, hh)"
   ]
  },
  {
   "cell_type": "code",
   "execution_count": null,
   "id": "e5fa4fe9-ad27-40b7-abe6-12d62ce7a7d8",
   "metadata": {},
   "outputs": [],
   "source": []
  }
 ],
 "metadata": {
  "kernelspec": {
   "display_name": "Python 3 (ipykernel)",
   "language": "python",
   "name": "python3"
  },
  "language_info": {
   "codemirror_mode": {
    "name": "ipython",
    "version": 3
   },
   "file_extension": ".py",
   "mimetype": "text/x-python",
   "name": "python",
   "nbconvert_exporter": "python",
   "pygments_lexer": "ipython3",
   "version": "3.8.13"
  }
 },
 "nbformat": 4,
 "nbformat_minor": 5
}
